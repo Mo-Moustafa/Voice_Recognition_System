{
 "cells": [
  {
   "cell_type": "code",
   "execution_count": 2,
   "metadata": {},
   "outputs": [],
   "source": [
    "import librosa\n",
    "import librosa.display\n",
    "import IPython.display as ipd\n",
    "import os\n",
    "import numpy as np\n",
    "import itertools\n",
    "import pandas as pd\n",
    "import math\n",
    "from scipy.signal import get_window\n",
    "import scipy\n",
    "from sklearn import preprocessing\n",
    "from scipy.io.wavfile import read\n",
    "import python_speech_features as mfcc\n",
    "from sklearn.mixture import GaussianMixture \n"
   ]
  },
  {
   "cell_type": "markdown",
   "metadata": {},
   "source": [
    "## Feartures Extraction"
   ]
  },
  {
   "cell_type": "markdown",
   "metadata": {},
   "source": [
    "##### MFCC Feature"
   ]
  },
  {
   "cell_type": "code",
   "execution_count": 3,
   "metadata": {},
   "outputs": [],
   "source": [
    "# Normalization in order to get rid of amplification levels and differences between mics\n",
    "def normalize_audio(audio):\n",
    "    audio = audio / np.max(np.abs(audio))\n",
    "    return audio"
   ]
  },
  {
   "cell_type": "code",
   "execution_count": 4,
   "metadata": {},
   "outputs": [],
   "source": [
    "# we devide the signal into short frames. Each audio frame will be the same size as the FFT\n",
    "def frame_audio(audio, FFT_size=2048, hop_size=10, sample_rate=44100):\n",
    "    audio = np.pad(audio, int(FFT_size / 2), mode='reflect')\n",
    "    frame_len = np.round(sample_rate * hop_size / 1000).astype(int)\n",
    "    frame_num = int((len(audio) - FFT_size) / frame_len) + 1\n",
    "    frames = np.zeros((frame_num,FFT_size))\n",
    "    \n",
    "    for n in range(frame_num):\n",
    "        frames[n] = audio[n*frame_len:n*frame_len+FFT_size]\n",
    "    \n",
    "    return frames"
   ]
  },
  {
   "cell_type": "code",
   "execution_count": 5,
   "metadata": {},
   "outputs": [],
   "source": [
    "def freq_to_mel(freq):\n",
    "    return 2595.0 * np.log10(1.0 + freq / 700.0)\n",
    "\n",
    "def met_to_freq(mels):\n",
    "    return 700.0 * (10.0**(mels / 2595.0) - 1.0)"
   ]
  },
  {
   "cell_type": "code",
   "execution_count": 6,
   "metadata": {},
   "outputs": [],
   "source": [
    "def get_filter_points(fmin, fmax, mel_filter_num, FFT_size, sample_rate=44100):\n",
    "    fmin_mel = freq_to_mel(fmin)\n",
    "    fmax_mel = freq_to_mel(fmax)\n",
    "    \n",
    "    mels = np.linspace(fmin_mel, fmax_mel, num=mel_filter_num+2)\n",
    "    freqs = met_to_freq(mels)\n",
    "    \n",
    "    return np.floor((FFT_size + 1) / sample_rate * freqs).astype(int), freqs"
   ]
  },
  {
   "cell_type": "code",
   "execution_count": 7,
   "metadata": {},
   "outputs": [],
   "source": [
    "def get_filters(filter_points, FFT_size):\n",
    "    filters = np.zeros((len(filter_points)-2,int(FFT_size/2+1)))\n",
    "    \n",
    "    for n in range(len(filter_points)-2):\n",
    "        filters[n, filter_points[n] : filter_points[n + 1]] = np.linspace(0, 1, filter_points[n + 1] - filter_points[n])\n",
    "        filters[n, filter_points[n + 1] : filter_points[n + 2]] = np.linspace(1, 0, filter_points[n + 2] - filter_points[n + 1])\n",
    "    \n",
    "    return filters"
   ]
  },
  {
   "cell_type": "code",
   "execution_count": 8,
   "metadata": {},
   "outputs": [],
   "source": [
    "def dct(dct_filter_num, filter_len):\n",
    "    basis = np.empty((dct_filter_num,filter_len))\n",
    "    basis[0, :] = 1.0 / np.sqrt(filter_len)\n",
    "    \n",
    "    samples = np.arange(1, 2 * filter_len, 2) * np.pi / (2.0 * filter_len)\n",
    "\n",
    "    for i in range(1, dct_filter_num):\n",
    "        basis[i, :] = np.cos(i * samples) * np.sqrt(2.0 / filter_len)\n",
    "        \n",
    "    return basis"
   ]
  },
  {
   "cell_type": "code",
   "execution_count": 9,
   "metadata": {},
   "outputs": [],
   "source": [
    "def extract_MFCC(file_path):\n",
    "    hop_size = 15 #ms\n",
    "    FFT_size = 2048\n",
    "    audio , sample_rate = librosa.load(file_path, res_type='kaiser_fast')\n",
    "    audio = normalize_audio(audio)\n",
    "    audio_framed = frame_audio(audio, FFT_size=FFT_size, hop_size=hop_size, sample_rate=sample_rate)\n",
    "    window = get_window(\"hann\", FFT_size, fftbins=True)\n",
    "    audio_win = audio_framed * window\n",
    "    audio_winT = np.transpose(audio_win)\n",
    "    \n",
    "    audio_fft = np.empty((int(1 + FFT_size // 2), audio_winT.shape[1]), dtype=np.complex64, order='F')\n",
    "\n",
    "    for n in range(audio_fft.shape[1]):\n",
    "        audio_fft[:, n] = scipy.fft.fft(audio_winT[:, n], axis=0)[:audio_fft.shape[0]]\n",
    "\n",
    "    audio_fft = np.transpose(audio_fft)\n",
    "\n",
    "    audio_power = np.square(np.abs(audio_fft))\n",
    "\n",
    "    freq_min = 0\n",
    "    freq_high = sample_rate / 2\n",
    "    mel_filter_num = 10\n",
    "    filter_points, mel_freqs = get_filter_points(freq_min, freq_high, mel_filter_num, FFT_size, sample_rate=44100)\n",
    "    filters = get_filters(filter_points, FFT_size)\n",
    "\n",
    "    enorm = 2.0 / (mel_freqs[2:mel_filter_num+2] - mel_freqs[:mel_filter_num])\n",
    "    filters *= enorm[:, np.newaxis]\n",
    "\n",
    "    audio_filtered = np.dot(filters, np.transpose(audio_power))\n",
    "    audio_log = 10.0 * np.log10(audio_filtered)\n",
    "\n",
    "    dct_filter_num = 40\n",
    "\n",
    "    dct_filters = dct(dct_filter_num, mel_filter_num)\n",
    "\n",
    "    cepstral_coefficents = np.dot(dct_filters, audio_log)\n",
    "    \n",
    "    # cepstral_coefficents = list(itertools.chain.from_iterable(cepstral_coefficents))\n",
    "\n",
    "    return cepstral_coefficents"
   ]
  },
  {
   "cell_type": "code",
   "execution_count": 10,
   "metadata": {},
   "outputs": [],
   "source": [
    "featuresYahia = []\n",
    "directory = './files/3sec/'\n",
    "for audio in os.listdir('./files/3sec/'):\n",
    "    audio_path = directory + audio\n",
    "    featuresYahia1=np.vstack(extract_MFCC(audio_path) )\n",
    "\n",
    "featuresAhmed = []\n",
    "directory = './files/Ahmed/'\n",
    "for audio in os.listdir('./files/Ahmed/'):\n",
    "    audio_path = directory + audio\n",
    "    featuresAhmed=np.vstack(extract_MFCC(audio_path))\n",
    "\n",
    "featuresMustafa = []\n",
    "directory = './files/Moustafa/'\n",
    "for audio in os.listdir('./files/Moustafa/'):\n",
    "    audio_path = directory + audio\n",
    "    featuresMustafa=np.vstack(extract_MFCC(audio_path))"
   ]
  },
  {
   "cell_type": "code",
   "execution_count": 31,
   "metadata": {},
   "outputs": [],
   "source": [
    "\n",
    "# len(featuresYahia1[0][1])"
   ]
  },
  {
   "cell_type": "code",
   "execution_count": 14,
   "metadata": {},
   "outputs": [],
   "source": [
    "# a = extract_MFCC('./files/Yahia_8.wav')\n",
    "\n",
    "b = extract_MFCC('./files/Mo20.wav')\n"
   ]
  },
  {
   "cell_type": "code",
   "execution_count": 15,
   "metadata": {},
   "outputs": [
    {
     "name": "stdout",
     "output_type": "stream",
     "text": [
      "-1359.7034705610574\n",
      "-1287.5490597872729\n",
      "-1273.500010755793\n"
     ]
    }
   ],
   "source": [
    "yahia_gmm = GaussianMixture(n_components = 1, max_iter = 2000, covariance_type='diag',n_init = 3)\n",
    "yahia_gmm.fit(featuresYahia1)\n",
    "\n",
    "ahmed_gmm = GaussianMixture(n_components = 1, max_iter = 2000, covariance_type='diag',n_init = 3)\n",
    "ahmed_gmm.fit(featuresAhmed)\n",
    "\n",
    "mostafa_gmm = GaussianMixture(n_components = 1, max_iter = 2000, covariance_type='diag',n_init = 3)\n",
    "mostafa_gmm.fit(featuresMustafa)\n",
    "\n",
    "# class_1=gmm.score(a)\n",
    "\n",
    "scores_1 = np.array(ahmed_gmm.score(b))\n",
    "scores_2 = np.array(yahia_gmm.score(b))\n",
    "scores_3 = np.array(mostafa_gmm.score(b))\n",
    "print(scores_1.sum())\n",
    "print(scores_2.sum())\n",
    "print(scores_3.sum())\n",
    "\n",
    "# if (scores_1.sum() > scores_2.sum()):\n",
    "#     print(\"Ahmed\")\n",
    "# else:\n",
    "#     print(\"Yahia\")"
   ]
  },
  {
   "cell_type": "code",
   "execution_count": null,
   "metadata": {},
   "outputs": [],
   "source": []
  }
 ],
 "metadata": {
  "kernelspec": {
   "display_name": "Python 3.10.4 64-bit",
   "language": "python",
   "name": "python3"
  },
  "language_info": {
   "codemirror_mode": {
    "name": "ipython",
    "version": 3
   },
   "file_extension": ".py",
   "mimetype": "text/x-python",
   "name": "python",
   "nbconvert_exporter": "python",
   "pygments_lexer": "ipython3",
   "version": "3.10.4"
  },
  "orig_nbformat": 4,
  "vscode": {
   "interpreter": {
    "hash": "26de051ba29f2982a8de78e945f0abaf191376122a1563185a90213a26c5da77"
   }
  }
 },
 "nbformat": 4,
 "nbformat_minor": 2
}
