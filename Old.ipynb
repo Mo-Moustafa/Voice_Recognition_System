{
 "cells": [
  {
   "cell_type": "code",
   "execution_count": null,
   "metadata": {},
   "outputs": [],
   "source": [
    "import librosa\n",
    "import librosa.display\n",
    "import IPython.display as ipd\n",
    "import os\n",
    "import numpy as np\n",
    "import itertools\n",
    "import pandas as pd\n",
    "import math"
   ]
  },
  {
   "cell_type": "markdown",
   "metadata": {},
   "source": [
    "## Extracting specrograms"
   ]
  },
  {
   "cell_type": "code",
   "execution_count": null,
   "metadata": {},
   "outputs": [],
   "source": [
    "list_of_spectrograms=[]\n",
    "def extract_spectrograms(file_path):\n",
    "    FRAME_SIZE = 2048\n",
    "    HOP_SIZE = 512\n",
    "    loaded_file , sample_rate = librosa.load(file_path, res_type='kaiser_fast')\n",
    "    Loaded_file_fourier = librosa.stft(loaded_file, n_fft=FRAME_SIZE, hop_length=HOP_SIZE)\n",
    "    return Loaded_file_fourier,sample_rate"
   ]
  },
  {
   "cell_type": "markdown",
   "metadata": {},
   "source": [
    "## Cal.split frequency bin"
   ]
  },
  {
   "cell_type": "code",
   "execution_count": null,
   "metadata": {},
   "outputs": [],
   "source": [
    "def calculate_split_frequency_bin(split_frequency, sample_rate, num_frequency_bins):\n",
    "    \"\"\"Infer the frequency bin associated to a given split frequency.\"\"\"\n",
    "    \n",
    "    frequency_range = sample_rate / 2\n",
    "    frequency_delta_per_bin = frequency_range / num_frequency_bins\n",
    "    split_frequency_bin = math.floor(split_frequency / frequency_delta_per_bin)\n",
    "    return int(split_frequency_bin)"
   ]
  },
  {
   "cell_type": "code",
   "execution_count": null,
   "metadata": {},
   "outputs": [],
   "source": [
    "def band_energy_ratio(spectrogram, split_frequency, sample_rate):\n",
    "    \"\"\"Calculate band energy ratio with a given split frequency.\"\"\"\n",
    "    \n",
    "    split_frequency_bin = calculate_split_frequency_bin(split_frequency, sample_rate, len(spectrogram[0]))\n",
    "    band_energy_ratio = []\n",
    "    \n",
    "    power_spectrogram = np.abs(spectrogram) ** 2\n",
    "    power_spectrogram = power_spectrogram.T\n",
    "    \n",
    "    for frame in power_spectrogram:\n",
    "        sum_power_low_frequencies = frame[:split_frequency_bin].sum()\n",
    "        sum_power_high_frequencies = frame[split_frequency_bin:].sum()\n",
    "        band_energy_ratio_current_frame = sum_power_low_frequencies / sum_power_high_frequencies\n",
    "        band_energy_ratio.append(band_energy_ratio_current_frame)\n",
    "    \n",
    "    return sum(np.array(band_energy_ratio))"
   ]
  },
  {
   "cell_type": "code",
   "execution_count": null,
   "metadata": {},
   "outputs": [],
   "source": [
    "def feature_extraction1(file_path):\n",
    "    loaded_spec,sr=extract_spectrograms(file_path)\n",
    "    split_frequency_bin=calculate_split_frequency_bin(2000, sr, 1025)\n",
    "    band_energy_List=band_energy_ratio(loaded_spec,split_frequency_bin,sr)\n",
    "    return band_energy_List"
   ]
  },
  {
   "cell_type": "code",
   "execution_count": null,
   "metadata": {},
   "outputs": [],
   "source": [
    "# def feature_extraction2(file_path):\n",
    "#     loaded_file, sample_rate = librosa.load(file_path, res_type='kaiser_fast')\n",
    "#     tempo = librosa.beat.tempo(loaded_file)[0]\n",
    "#     return tempo"
   ]
  },
  {
   "cell_type": "code",
   "execution_count": null,
   "metadata": {},
   "outputs": [],
   "source": [
    "# def feature_extraction3(file_path):\n",
    "#     # load the audio file\n",
    "#     loaded_file, sample_rate = librosa.load(file_path, res_type='kaiser_fast')\n",
    "#     # extract features from the audio\n",
    "#     zero_crossings = sum(librosa.zero_crossings(loaded_file, pad=False))\n",
    "\n",
    "#     return zero_crossings"
   ]
  },
  {
   "cell_type": "code",
   "execution_count": null,
   "metadata": {},
   "outputs": [],
   "source": [
    "featuresAisha1 = []\n",
    "featuresAisha2 = []\n",
    "featuresAisha3 = []\n",
    "directory = './files/Test2/'\n",
    "for audio in os.listdir('./files/Test2/'):\n",
    "    audio_path = directory + audio\n",
    "    featuresAisha1.append(feature_extraction1(audio_path))\n",
    "    # featuresAisha2.append(feature_extraction2(audio_path))\n",
    "    # featuresAisha3.append(feature_extraction3(audio_path))"
   ]
  },
  {
   "cell_type": "code",
   "execution_count": null,
   "metadata": {},
   "outputs": [],
   "source": [
    "#----------------  storing the bands of energy in a list in lists inorder to to check their total number of bins\n",
    "# features=[]\n",
    "# length_list=[]\n",
    "# directory = './files/Test2/'\n",
    "# for audio in os.listdir('./files/Test2/'):\n",
    "#     audio_path = directory + audio\n",
    "#     features.append(feature_extraction1(audio_path))\n",
    "#     length_list.append(len(feature_extraction1(audio_path)))"
   ]
  },
  {
   "cell_type": "code",
   "execution_count": null,
   "metadata": {},
   "outputs": [],
   "source": [
    "#--------- listing the size of each bins of the energy bands\n",
    "# length_list\n",
    "# for i in range(0,60):\n",
    "#     if length_list[i] =\n",
    "#         print(i)\n",
    "\n",
    "# y=feature_extraction1('./files/Aisha/Yahia_1.wav')\n",
    "# print(len(y))"
   ]
  },
  {
   "cell_type": "code",
   "execution_count": null,
   "metadata": {},
   "outputs": [],
   "source": [
    "# featuresYahia1 = []\n",
    "# featuresYahia2 = []\n",
    "# featuresYahia3 = []\n",
    "# directory = './files/Yahia/'\n",
    "# for audio in os.listdir('./files/Yahia/'):\n",
    "#     audio_path = directory + audio\n",
    "#     # featuresYahia1.append(feature_extraction1(audio_path))\n",
    "#     featuresYahia2.append(feature_extraction2(audio_path))\n",
    "#     featuresYahia3.append(feature_extraction3(audio_path))"
   ]
  },
  {
   "cell_type": "code",
   "execution_count": null,
   "metadata": {},
   "outputs": [],
   "source": [
    "# featuresYahia1 = list(itertools.chain.from_iterable(featuresYahia1))\n",
    "# featuresYahia1[6]"
   ]
  },
  {
   "cell_type": "code",
   "execution_count": null,
   "metadata": {},
   "outputs": [],
   "source": [
    "dfTest = pd.DataFrame()\n",
    "dfTest['f1'] = featuresAisha1\n",
    "# dfTest['f2'] = featuresAisha2\n",
    "# dfTest['f3'] = featuresAisha3\n",
    "dfTest['target'] = [0] * 101\n",
    "dfTest"
   ]
  },
  {
   "cell_type": "code",
   "execution_count": null,
   "metadata": {},
   "outputs": [],
   "source": [
    "# dfYahia = pd.DataFrame()\n",
    "# # dfYahia['f1'] = featuresYahia1\n",
    "# dfYahia['f2'] = featuresYahia2\n",
    "# dfYahia['f3'] = featuresYahia3\n",
    "# dfYahia['target'] = [1] * 9\n",
    "# dfYahia"
   ]
  },
  {
   "cell_type": "code",
   "execution_count": null,
   "metadata": {},
   "outputs": [],
   "source": [
    "df = pd.concat([dfAisha, dfYahia], ignore_index=True)"
   ]
  },
  {
   "cell_type": "code",
   "execution_count": null,
   "metadata": {},
   "outputs": [],
   "source": [
    "df"
   ]
  },
  {
   "cell_type": "code",
   "execution_count": null,
   "metadata": {},
   "outputs": [],
   "source": [
    "#Import Libraries\n",
    "from sklearn.datasets import load_boston\n",
    "from sklearn.model_selection import train_test_split\n",
    "from sklearn.svm import SVR\n",
    "#----------------------------------------------------\n",
    "\n",
    "#X Data\n",
    "# x = df[['f1', 'f2', 'f3']]\n",
    "x = df[['f2', 'f3']]\n",
    "#y Data\n",
    "y = df['target']\n",
    "\n",
    "#----------------------------------------------------\n",
    "#Splitting data\n",
    "\n",
    "X_train, X_test, y_train, y_test = train_test_split(x, y, test_size=0.33, random_state=44, shuffle =True)\n",
    "\n",
    "#----------------------------------------------------\n",
    "#Applying SVR Model \n",
    "\n",
    "'''\n",
    "sklearn.svm.SVR(kernel=’rbf’, degree=3, gamma=’auto_deprecated’, coef0=0.0, tol=0.001,\n",
    "                C=1.0, epsilon=0.1, shrinking=True, cache_size=200, verbose=False,max_iter=-1)\n",
    "'''\n",
    "\n",
    "SVRModel = SVR(C = 1.0, epsilon=0.1, kernel = 'rbf') # it also can be : linear, poly, rbf, sigmoid, precomputed\n",
    "SVRModel.fit(X_train, y_train)\n",
    "\n",
    "#Calculating Details\n",
    "print('SVRModel Train Score is : ' , SVRModel.score(X_train, y_train))\n",
    "print('SVRModel Test Score is  : ' , SVRModel.score(X_test, y_test))\n",
    "print('----------------------------------------------------')"
   ]
  },
  {
   "cell_type": "code",
   "execution_count": null,
   "metadata": {},
   "outputs": [],
   "source": [
    "x = df[['f1', 'f2', 'f3']]"
   ]
  },
  {
   "cell_type": "code",
   "execution_count": null,
   "metadata": {},
   "outputs": [],
   "source": [
    "FRAME_SIZE = 1024\n",
    "HOP_LENGTH = 512\n",
    "\n",
    "signal, sr = librosa.load('./files/Aisha/Aisha_5.wav')\n",
    "\n",
    "zcr_librosa = librosa.feature.zero_crossing_rate(signal, frame_length=FRAME_SIZE, hop_length=HOP_LENGTH)[0]\n",
    "\n",
    "print(zcr_librosa.size)\n",
    "\n",
    "zcr_scratch = np.array\n",
    "\n",
    "for index in range(0, len(signal) - 1):\n",
    "    zcr_scratch + = (np.sign(signal(index)) - np.sign(signal(index + 1)) ) / 2\n",
    "\n",
    "print(zcr_scratch)"
   ]
  }
 ],
 "metadata": {
  "kernelspec": {
   "display_name": "Python 3.10.4 64-bit",
   "language": "python",
   "name": "python3"
  },
  "language_info": {
   "codemirror_mode": {
    "name": "ipython",
    "version": 3
   },
   "file_extension": ".py",
   "mimetype": "text/x-python",
   "name": "python",
   "nbconvert_exporter": "python",
   "pygments_lexer": "ipython3",
   "version": "3.10.4"
  },
  "orig_nbformat": 4,
  "vscode": {
   "interpreter": {
    "hash": "26de051ba29f2982a8de78e945f0abaf191376122a1563185a90213a26c5da77"
   }
  }
 },
 "nbformat": 4,
 "nbformat_minor": 2
}
